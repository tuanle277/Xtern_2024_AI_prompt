{
  "nbformat": 4,
  "nbformat_minor": 0,
  "metadata": {
    "colab": {
      "provenance": [],
      "authorship_tag": "ABX9TyNpgRMpIPyujzAUdFj3sFEs",
      "include_colab_link": true
    },
    "kernelspec": {
      "name": "python3",
      "display_name": "Python 3"
    },
    "language_info": {
      "name": "python"
    }
  },
  "cells": [
    {
      "cell_type": "markdown",
      "metadata": {
        "id": "view-in-github",
        "colab_type": "text"
      },
      "source": [
        "<a href=\"https://colab.research.google.com/github/tuanle277/Xtern_2024_AI_prompt/blob/main/AI_work_prompt.ipynb\" target=\"_parent\"><img src=\"https://colab.research.google.com/assets/colab-badge.svg\" alt=\"Open In Colab\"/></a>"
      ]
    },
    {
      "cell_type": "markdown",
      "source": [
        "Build a model to predict a customers order from their available information.\n",
        "\n",
        "1. Outline your process for model selection, training and testing. Including data preparation.\n",
        "2. Design a function that prepares your data by loading the provided dataset and processes it into an appropriate machine readable format if necessary.\n",
        "3. Design a function to train your model and pickle it.\n",
        "4. Train and test your model.  Submit any training, testing and model selection visuals or metrics.\n",
        "5. Upload your work to GitHub and link the repository, make sure it is public."
      ],
      "metadata": {
        "id": "6NYbmCPEBUdK"
      }
    },
    {
      "cell_type": "code",
      "execution_count": 40,
      "metadata": {
        "id": "9BpLUeABA8g-"
      },
      "outputs": [],
      "source": [
        "import numpy as np"
      ]
    },
    {
      "cell_type": "code",
      "source": [
        "import pandas as pd\n",
        "path_menu, path_order = \"https://github.com/tuanle277/Xtern_2024_AI_prompt/blob/main/XTern%202024%20Artificial%20Intelegence%20Data%20Set%20-%20Menu.csv?raw=True\", \"https://github.com/tuanle277/Xtern_2024_AI_prompt/blob/main/XTern%202024%20Artificial%20Intelegence%20Data%20Set%20-%20Xtern_TrainData.csv?raw=True\"\n",
        "\n",
        "order_df, menu_df = pd.read_csv(path_order, on_bad_lines=\"skip\"), pd.read_csv(path_menu, on_bad_lines=\"skip\")\n",
        "order_df = pd.merge(order_df, menu_df, left_on='Order', right_on='Item', how='left')"
      ],
      "metadata": {
        "id": "9HrAwvgG0nec"
      },
      "execution_count": 41,
      "outputs": []
    },
    {
      "cell_type": "code",
      "source": [
        "from sklearn.preprocessing import LabelEncoder\n",
        "\n",
        "# Label encoding for 'University', 'Major', 'Year' and 'Order'\n",
        "le_university_name = LabelEncoder()\n",
        "le_university_major = LabelEncoder()\n",
        "le_university_class = LabelEncoder()\n",
        "le_university_order = LabelEncoder()\n",
        "\n",
        "\n",
        "# Converting the aforementioned columns into their corresponding encoder\n",
        "order_df['University'] = le_university_name.fit_transform(order_df['University'])\n",
        "order_df['Major'] = le_university_major.fit_transform(order_df['Major'])\n",
        "order_df['Year'] = le_university_class.fit_transform(order_df['Year'])\n",
        "order_df['Order'] = le_university_order.fit_transform(order_df['Order'])"
      ],
      "metadata": {
        "id": "8nWdy26p1MkL"
      },
      "execution_count": 42,
      "outputs": []
    },
    {
      "cell_type": "code",
      "source": [
        "X = order_df[['University', 'Major', 'Year', 'Price', 'Calories']]\n",
        "y = order_df['Order']"
      ],
      "metadata": {
        "id": "xJym46n_2KL-"
      },
      "execution_count": 43,
      "outputs": []
    },
    {
      "cell_type": "code",
      "source": [
        "from sklearn.model_selection import train_test_split\n",
        "X_train, X_test, Y_train, Y_test = train_test_split(X, y, test_size=0.2)"
      ],
      "metadata": {
        "id": "fdAl1S874BNZ"
      },
      "execution_count": 44,
      "outputs": []
    },
    {
      "cell_type": "code",
      "source": [
        "from sklearn.tree import DecisionTreeClassifier\n",
        "from sklearn.metrics import classification_report\n",
        "import time\n",
        "\n",
        "\"\"\"________________model + classification + prediciton__________________\"\"\"\n",
        "\n",
        "classifier_name, classifier = \"Decision Tree\", DecisionTreeClassifier()\n",
        "\n",
        "t_start = time.time()\n",
        "classifier.fit(X_train, Y_train)\n",
        "t_end = time.time()\n",
        "\n",
        "t_diff = t_end - t_start\n",
        "preds = classifier.predict(X_test)\n",
        "\n",
        "report = classification_report(Y_test, preds, output_dict=True)\n",
        "print(f'Predicitor: {classifier_name}; macro f1 score: {report[\"macro avg\"][\"f1-score\"]}, micro f1 score: {report[\"weighted avg\"][\"f1-score\"]}, accuracy: {report[\"accuracy\"]}, training time: {t_diff}')\n"
      ],
      "metadata": {
        "colab": {
          "base_uri": "https://localhost:8080/"
        },
        "id": "dM6tFTmy3SyC",
        "outputId": "00b7c754-c78c-4c6b-d68c-374dc7bab077"
      },
      "execution_count": 45,
      "outputs": [
        {
          "output_type": "stream",
          "name": "stdout",
          "text": [
            "Predicitor: Decision Tree; macro f1 score: 1.0, micro f1 score: 1.0, accuracy: 1.0, training time: 0.008685111999511719\n"
          ]
        }
      ]
    },
    {
      "cell_type": "code",
      "source": [
        "import pickle\n",
        "s = pickle.dumps(classifier)"
      ],
      "metadata": {
        "id": "2D3uY_Xk6x5w"
      },
      "execution_count": null,
      "outputs": []
    }
  ]
}