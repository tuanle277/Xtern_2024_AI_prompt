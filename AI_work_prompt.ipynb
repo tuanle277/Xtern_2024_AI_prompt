{
  "nbformat": 4,
  "nbformat_minor": 0,
  "metadata": {
    "colab": {
      "provenance": [],
      "authorship_tag": "ABX9TyPvPnvaTzSJGhdNKf0zXJFZ",
      "include_colab_link": true
    },
    "kernelspec": {
      "name": "python3",
      "display_name": "Python 3"
    },
    "language_info": {
      "name": "python"
    }
  },
  "cells": [
    {
      "cell_type": "markdown",
      "metadata": {
        "id": "view-in-github",
        "colab_type": "text"
      },
      "source": [
        "<a href=\"https://colab.research.google.com/github/tuanle277/Xtern_2024_AI_prompt/blob/main/AI_work_prompt.ipynb\" target=\"_parent\"><img src=\"https://colab.research.google.com/assets/colab-badge.svg\" alt=\"Open In Colab\"/></a>"
      ]
    },
    {
      "cell_type": "markdown",
      "source": [
        "Build a model to predict a customers order from their available information.\n",
        "\n",
        "1. Outline your process for model selection, training and testing. Including data preparation.\n",
        "2. Design a function that prepares your data by loading the provided dataset and processes it into an appropriate machine readable format if necessary.\n",
        "3. Design a function to train your model and pickle it.\n",
        "4. Train and test your model.  Submit any training, testing and model selection visuals or metrics.\n",
        "5. Upload your work to GitHub and link the repository, make sure it is public."
      ],
      "metadata": {
        "id": "6NYbmCPEBUdK"
      }
    },
    {
      "cell_type": "code",
      "execution_count": 1,
      "metadata": {
        "colab": {
          "base_uri": "https://localhost:8080/",
          "height": 143
        },
        "id": "9BpLUeABA8g-",
        "outputId": "64a75bdd-bfda-4240-e5ee-c9b8349bd8de"
      },
      "outputs": [
        {
          "output_type": "error",
          "ename": "SyntaxError",
          "evalue": "ignored",
          "traceback": [
            "\u001b[0;36m  File \u001b[0;32m\"<ipython-input-1-e68c3e050bab>\"\u001b[0;36m, line \u001b[0;32m1\u001b[0m\n\u001b[0;31m    import scikit-learn as sklearn\u001b[0m\n\u001b[0m                 ^\u001b[0m\n\u001b[0;31mSyntaxError\u001b[0m\u001b[0;31m:\u001b[0m invalid syntax\n"
          ]
        }
      ],
      "source": [
        "import scikit-learn as sklearn"
      ]
    }
  ]
}